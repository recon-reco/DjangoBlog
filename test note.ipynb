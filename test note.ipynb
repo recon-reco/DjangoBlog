{
 "cells": [
  {
   "cell_type": "code",
   "execution_count": null,
   "id": "5515aa6e",
   "metadata": {},
   "outputs": [],
   "source": [
    "import random"
   ]
  },
  {
   "cell_type": "code",
   "execution_count": 52,
   "id": "7d8ae8b0",
   "metadata": {
    "scrolled": true
   },
   "outputs": [
    {
     "name": "stdout",
     "output_type": "stream",
     "text": [
      "[9, 3, 31, 28, 48, 57, 60, 61]\n",
      "[15, 10, 35, 23, 44, 52, 62, 64]\n",
      "[4, 14, 27, 26, 53, 42, 61, 64]\n",
      "[6, 13, 24, 29, 58, 47, 63, 61]\n",
      "[18, 7, 21, 20, 46, 55, 60, 63]\n",
      "[[9, 3, 31, 28, 48, 57, 60, 61], [15, 10, 35, 23, 44, 52, 62, 64], [4, 14, 27, 26, 53, 42, 61, 64], [6, 13, 24, 29, 58, 47, 63, 61], [18, 7, 21, 20, 46, 55, 60, 63]]\n"
     ]
    }
   ],
   "source": [
    "#카테고리별 메뉴\n",
    "l1=list(range(0, 20))\n",
    "l2=list(range(20, 40))\n",
    "l3=list(range(40, 60))\n",
    "l4=list(range(60, 65))\n",
    "\n",
    "#랜덤하게 생성 카테고리별 메뉴 리스트\n",
    "l1_r =random.sample(l1, 10)\n",
    "l2_r =random.sample(l2, 10)\n",
    "l3_r =random.sample(l3, 10)\n",
    "l4_r =random.choices(l4, k=10)\n",
    "\n",
    "#요일별 식단을 담은 주간식단\n",
    "week=[[],[],[],[],[]]\n",
    "\n",
    "for i in range(0,5):\n",
    "    week[i]+=[l1_r[i],l1_r[i+5]]\n",
    "    week[i]+=[l2_r[i],l2_r[i+5]]\n",
    "    week[i]+=[l3_r[i],l3_r[i+5]]\n",
    "    week[i]+=[l4_r[i],l4_r[i+5]]\n",
    "   \n",
    "\n",
    "for i in range(0,5):\n",
    "    print(week[i])\n",
    "\n",
    "    \n",
    "    \n",
    "\n",
    "print(week)\n",
    "\n",
    "\n",
    "\n"
   ]
  },
  {
   "cell_type": "code",
   "execution_count": 60,
   "id": "10e6cba0",
   "metadata": {},
   "outputs": [
    {
     "name": "stdout",
     "output_type": "stream",
     "text": [
      "[9, 3, 31, 28, 48, 57, 60, 61]\n",
      "++++\n",
      "[9, 31, 48, 60, 3, 28, 57, 61]\n",
      "\n",
      "[15, 10, 35, 23, 44, 52, 62, 64]\n",
      "++++\n",
      "[15, 35, 44, 62, 10, 23, 52, 64]\n",
      "\n",
      "[4, 14, 27, 26, 53, 42, 61, 64]\n",
      "++++\n",
      "[4, 27, 53, 61, 14, 26, 42, 64]\n",
      "\n",
      "[6, 13, 24, 29, 58, 47, 63, 61]\n",
      "++++\n",
      "[6, 24, 58, 63, 13, 29, 47, 61]\n",
      "\n",
      "[18, 7, 21, 20, 46, 55, 60, 63]\n",
      "++++\n",
      "[18, 21, 46, 60, 7, 20, 55, 63]\n",
      "\n"
     ]
    }
   ],
   "source": [
    "#생성된 week에서 요일별 식단 출력하기\n",
    "\"\"\"\n",
    "월요일 ~ 금요일\n",
    "탄수화물, 스프, 메인, 서브/\n",
    "월요일 식단 > 짝수- 점심/ 홀수- 저녁\n",
    "\"\"\"\n",
    "lst_1=[]\n",
    "lst_2=[]\n",
    "for i in range(0,10):\n",
    "    if i%2==0:\n",
    "        lst_1.append(i)\n",
    "    else:\n",
    "        lst_2.append(i)\n",
    "\n",
    " \n",
    "\n",
    "def daily_meals(day_meal):\n",
    "    \"\"\"week에서 요일별 식단 출력\"\"\"\n",
    "    l1 = []\n",
    "    l2 = []\n",
    "    for i in range(0,len(day_meal)):\n",
    "        if i%2==0:\n",
    "            l1.append(day_meal[i])\n",
    "        else :\n",
    "            l2.append(day_meal[i])\n",
    "    return l1+l2\n",
    "\n",
    "\n",
    "\n",
    "for i in range(len(week)):\n",
    "    print(week[i])\n",
    "    print(\"++++\")\n",
    "    print(daily_meals(week[i]))\n",
    "    print()"
   ]
  },
  {
   "cell_type": "code",
   "execution_count": null,
   "id": "ddc72e13",
   "metadata": {},
   "outputs": [],
   "source": [
    "# "
   ]
  }
 ],
 "metadata": {
  "kernelspec": {
   "display_name": "Python 3 (ipykernel)",
   "language": "python",
   "name": "python3"
  },
  "language_info": {
   "codemirror_mode": {
    "name": "ipython",
    "version": 3
   },
   "file_extension": ".py",
   "mimetype": "text/x-python",
   "name": "python",
   "nbconvert_exporter": "python",
   "pygments_lexer": "ipython3",
   "version": "3.11.5"
  }
 },
 "nbformat": 4,
 "nbformat_minor": 5
}
